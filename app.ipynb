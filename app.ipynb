{
 "cells": [
  {
   "cell_type": "code",
   "execution_count": null,
   "id": "c58c0e7c",
   "metadata": {},
   "outputs": [
    {
     "data": {
      "application/vnd.jupyter.widget-view+json": {
       "model_id": "41fd2709e0594905bc07463188e2816c",
       "version_major": 2,
       "version_minor": 0
      },
      "text/plain": [
       "VBox(children=(Text(value='', description='Tema:', placeholder='Ex: saúde mental, alimentação saudável, preven…"
      ]
     },
     "metadata": {},
     "output_type": "display_data"
    }
   ],
   "source": [
    "import ipywidgets as widgets;\n",
    "from langchain_groq import ChatGroq\n",
    "import os\n",
    "import getpass\n",
    "from IPython.display import display\n",
    "\n",
    "topic = widgets.Text(\n",
    "    description = 'Tema:',\n",
    "    placeholder = 'Ex: saúde mental, alimentação saudável, prevenção, etc.'\n",
    ")\n",
    "\n",
    "w_dropdown = '250px'\n",
    "\n",
    "platform = widgets.Dropdown(\n",
    "    options = ['Instagram', 'Facebook', 'LinkedIn', 'Blog', 'E-mail'],\n",
    "    description = 'Plataforma',\n",
    "    layout = widgets.Layout(width = w_dropdown)\n",
    ")\n",
    "\n",
    "tone = widgets.Dropdown(\n",
    "    options=['Normal', 'Informativo', 'Inspirador', 'Urgente', 'Informal'],\n",
    "    description='Tom:',\n",
    "    layout=widgets.Layout(width=w_dropdown)\n",
    ")\n",
    "\n",
    "length = widgets.Dropdown(\n",
    "    options=['Curto', 'Médio', 'Longo'],\n",
    "    description='Tamanho:',\n",
    "    layout=widgets.Layout(width=w_dropdown)\n",
    ")\n",
    "\n",
    "audience = widgets.Dropdown(\n",
    "    options=['Geral', 'Jovens adultos', 'Famílias', 'Idosos', 'Adolescentes'],\n",
    "    description='Público-alvo:',\n",
    "    layout=widgets.Layout(width=w_dropdown)\n",
    ")\n",
    "\n",
    "cta = widgets.Checkbox(\n",
    "    value = False,\n",
    "    description = 'Incluir CTA'\n",
    ")\n",
    "\n",
    "hashtags = widgets.Checkbox(\n",
    "    value=False,\n",
    "    description='Retornar Hashtags',\n",
    ")\n",
    "\n",
    "keywords = widgets.Textarea(\n",
    "  description = 'Palavra-chave (SEO)',\n",
    "  placeholder = 'Ex: bem-estar, medicina preventiva...',\n",
    "  layout = widgets.Layout(width='500px', height='50px')\n",
    ")\n",
    "\n",
    "\n",
    "generate_button = widgets.Button(\n",
    "  description = 'Gerar conteúdo'\n",
    ")\n",
    "\n",
    "\n",
    "output = widgets.Output()\n",
    "\n",
    "\n",
    "def generate_result(b):\n",
    "  with output:\n",
    "    output.clear_output()\n",
    "    print(\"OK!\")\n",
    "\n",
    "generate_button.on_click(generate_result)\n",
    "\n",
    "\n",
    "def create_form():\n",
    "    return widgets.VBox([\n",
    "        topic,\n",
    "        platform,\n",
    "        tone,\n",
    "        length,\n",
    "        audience,\n",
    "        cta,\n",
    "        hashtags,\n",
    "        keywords,\n",
    "        generate_button,\n",
    "        output\n",
    "    ])\n",
    "\n",
    "form = create_form()\n",
    "\n",
    "display(form)"
   ]
  }
 ],
 "metadata": {
  "kernelspec": {
   "display_name": ".venv",
   "language": "python",
   "name": "python3"
  },
  "language_info": {
   "codemirror_mode": {
    "name": "ipython",
    "version": 3
   },
   "file_extension": ".py",
   "mimetype": "text/x-python",
   "name": "python",
   "nbconvert_exporter": "python",
   "pygments_lexer": "ipython3",
   "version": "3.10.12"
  }
 },
 "nbformat": 4,
 "nbformat_minor": 5
}
