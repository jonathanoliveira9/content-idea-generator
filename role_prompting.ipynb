{
 "cells": [
  {
   "cell_type": "markdown",
   "id": "b80b132e",
   "metadata": {},
   "source": []
  },
  {
   "cell_type": "markdown",
   "id": "fb14db72",
   "metadata": {},
   "source": [
    "### Zero Shot\n",
    "Zero-shot prompt examples are commands that ask a model to perform a task it hasn't been explicitly trained on, relying on its general knowledge instead. "
   ]
  },
  {
   "cell_type": "markdown",
   "id": "44082323",
   "metadata": {},
   "source": [
    "### Role prompting\n",
    "\n",
    "Role prompting is a technique used to instruct an AI, like a large language model, to adopt a specific persona or role for a given task. This method guides the AI to generate responses that are more relevant, tailored, and coherent by setting a clear framework for its tone, style, and expertise."
   ]
  },
  {
   "cell_type": "code",
   "execution_count": null,
   "id": "3be19207",
   "metadata": {},
   "outputs": [],
   "source": [
    "import ipywidgets as widgets;\n",
    "from langchain_groq import ChatGroq\n",
    "import os\n",
    "import getpass\n",
    "from IPython.display import display\n",
    "from langchain_core.prompts import ChatPromptTemplate\n",
    "from langchain_core.output_parsers import StrOutputParser\n",
    "\n",
    "os.environ['GROQ_API_KEY'] = getpass.getpass()\n",
    "\n",
    "id_model = 'allam-2-7b' #@param { type: 'string' }\n",
    "\n",
    "llm = ChatGroq(\n",
    "    model = id_model,\n",
    "    temperature = 0.7,\n",
    "    max_tokens = None,\n",
    "    timeout = None,\n",
    "    max_retries = 2)\n",
    "\n",
    "def show_response(res):\n",
    "    from IPython.display import Markdown\n",
    "    display(Markdown.from_string(res))\n",
    "\n",
    "prompt = \"talk about chocolate in one paragraphy\"\n",
    "\n",
    "template = ChatPromptTemplate.from_messages(\n",
    "  [\n",
    "    (\"system\", \"Você é um especialista em marketing de digital com foco em SEO e escriva persuasiva.\"),\n",
    "    (\"human\", \"{prompt}\")\n",
    "  ]\n",
    ")\n",
    "\n",
    "chain = template | llm | StrOutputParser()\n",
    "\n",
    "resp = chain.invoke({\"prompt\": prompt})\n",
    "\n",
    "show_response(resp)\n"
   ]
  },
  {
   "cell_type": "markdown",
   "id": "6e4de692",
   "metadata": {},
   "source": []
  },
  {
   "cell_type": "code",
   "execution_count": null,
   "id": "12f14432",
   "metadata": {},
   "outputs": [],
   "source": []
  },
  {
   "cell_type": "markdown",
   "id": "02a66253",
   "metadata": {},
   "source": []
  }
 ],
 "metadata": {
  "kernelspec": {
   "display_name": ".venv",
   "language": "python",
   "name": "python3"
  },
  "language_info": {
   "name": "python",
   "version": "3.10.12"
  }
 },
 "nbformat": 4,
 "nbformat_minor": 5
}
